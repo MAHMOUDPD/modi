{
  "nbformat": 4,
  "nbformat_minor": 0,
  "metadata": {
    "colab": {
      "name": "Solving a quadratic programming problem.ipynb",
      "provenance": [],
      "collapsed_sections": [],
      "include_colab_link": true
    },
    "kernelspec": {
      "name": "python3",
      "display_name": "Python 3"
    },
    "language_info": {
      "name": "python"
    }
  },
  "cells": [
    {
      "cell_type": "markdown",
      "metadata": {
        "id": "view-in-github",
        "colab_type": "text"
      },
      "source": [
        "<a href=\"https://colab.research.google.com/github/MAHMOUDPD/modi/blob/master/Solving_a_quadratic_programming_problem.ipynb\" target=\"_parent\"><img src=\"https://colab.research.google.com/assets/colab-badge.svg\" alt=\"Open In Colab\"/></a>"
      ]
    },
    {
      "cell_type": "markdown",
      "source": [
        "\n",
        "\n",
        "In this notebook, we will solve a Quadratic Program (QP) using a third-party, non-standard package called `qpsolvers`.\n",
        "\n",
        "You need to guide yourselves through with an example from https://scaron.info/doc/qpsolvers/quadratic-programming.html ."
      ],
      "metadata": {
        "id": "K9zS4ReHv57L"
      }
    },
    {
      "cell_type": "markdown",
      "source": [
        "Let us first install `qpsolvers` into `GoogleColab`."
      ],
      "metadata": {
        "id": "M1S5RUKBxiXK"
      }
    },
    {
      "cell_type": "code",
      "source": [
        "%pip install qpsolvers # installing the relavent package"
      ],
      "metadata": {
        "id": "vAqKp9MCxgoG",
        "colab": {
          "base_uri": "https://localhost:8080/"
        },
        "outputId": "0c02e3bc-82eb-4e15-f24e-25445e1c84eb"
      },
      "execution_count": null,
      "outputs": [
        {
          "output_type": "stream",
          "name": "stdout",
          "text": [
            "Collecting qpsolvers\n",
            "  Downloading qpsolvers-1.7.2-py3-none-any.whl (36 kB)\n",
            "Requirement already satisfied: scipy>=1.2.0 in /usr/local/lib/python3.7/dist-packages (from qpsolvers) (1.4.1)\n",
            "Collecting quadprog>=0.1.8\n",
            "  Downloading quadprog-0.1.11.tar.gz (121 kB)\n",
            "\u001b[K     |████████████████████████████████| 121 kB 5.1 MB/s \n",
            "\u001b[?25h  Installing build dependencies ... \u001b[?25l\u001b[?25hdone\n",
            "  Getting requirements to build wheel ... \u001b[?25l\u001b[?25hdone\n",
            "    Preparing wheel metadata ... \u001b[?25l\u001b[?25hdone\n",
            "Requirement already satisfied: numpy in /usr/local/lib/python3.7/dist-packages (from quadprog>=0.1.8->qpsolvers) (1.19.5)\n",
            "Building wheels for collected packages: quadprog\n",
            "  Building wheel for quadprog (PEP 517) ... \u001b[?25l\u001b[?25hdone\n",
            "  Created wheel for quadprog: filename=quadprog-0.1.11-cp37-cp37m-linux_x86_64.whl size=290758 sha256=7ae9ce016981503885169f40ac1dc1c6639cfb91226cd618fec85a3ca5588ffe\n",
            "  Stored in directory: /root/.cache/pip/wheels/4a/4e/d7/41034ea11aeef1266df3cae546116cb6094e955c41ae3e2589\n",
            "Successfully built quadprog\n",
            "Installing collected packages: quadprog, qpsolvers\n",
            "Successfully installed qpsolvers-1.7.2 quadprog-0.1.11\n"
          ]
        }
      ]
    },
    {
      "cell_type": "code",
      "execution_count": null,
      "metadata": {
        "id": "GEsGN6m2eA0Y"
      },
      "outputs": [],
      "source": [
        "# useful libraries are imported\n",
        "import numpy as np\n",
        "import qpsolvers as qp"
      ]
    },
    {
      "cell_type": "markdown",
      "source": [
        "Let us modify the Linear Program (LP) from our class into a QP.\n",
        "\n",
        "**Situation:** \\\\\n",
        "Suppose that a company is producing a good within a day.\n",
        "This company has 6 production sites whose production cost is linear and transportation cost is quadratic. Let $c = (10,17,13,9,15,18)^{\\top}$ and $q = (7,5,4,8,2,4)^{\\top}$ be the cost and transport coefficients for each site, respectively. This means if Site#1 produces $x_{1}$ items, then its production cost is $c_{1}x_{1} = 10x_{1}$ and its transportation cost is $q_{1}x_{1}^{2} = 7x_{1}^{2}$, and similarly for other sites.\n",
        "The sites 1-3 are in the same region so that they share the same resources, which limits the total daily production between them to $500,000$ units.\n",
        "Similarly for the sites 4-6. Their total daily production cannot exceeds $400,000$ units due to the shared resources.\n",
        "Moreover, due to the limited men and machines, each site can only afford to produce at most $200,000$ units in a day.\n",
        "\n",
        "At the same time, the company needs to satisfy the demands of $750,000$ on the market while wanting to have the market clearing."
      ],
      "metadata": {
        "id": "K1z80Va5y4Dk"
      }
    },
    {
      "cell_type": "markdown",
      "source": [
        "**QUESTION**\n",
        "\n",
        "Use `qpsolvers` to find an optimal way for this company to produce."
      ],
      "metadata": {
        "id": "lBKYVN2k2QYq"
      }
    },
    {
      "cell_type": "markdown",
      "source": [
        "#Solution\n",
        "The problem can be formulated as quadratic programming as follows:\n",
        "$$\n",
        "\\begin{array}{ll}\n",
        "\\text{minimize} & f(x) = x^{T}Qx + c^{\\top}x = q_{1}x_{1}^{2}+c_{1}x_{1} + \\cdots +q_{6}x_{6}^{2} + c_{6}x_{6} \\\\\n",
        "\\text{subject to}\n",
        "& x_{1} + x_{2} + x_{3} \\leq 500000 \\\\\n",
        "& x_{4} + x_{5} + x_{6} \\leq 400000 \\\\\n",
        "& x_{1} + \\cdots + x_{6} = 750000 \\\\\n",
        "& 0 \\leq x_{i} \\leq 200000, \\quad \\forall i = 1,\\cdots,6.\n",
        "\\end{array}\n",
        "$$\n",
        "where, $Q$ is diagonal matrix  defined as follows \\begin{bmatrix} q_{1}& 0 & 0 & 0 & 0 & 0 \\\\ 0 & q_{2} & 0 & 0 & 0 &0\\\\ 0 & 0 & q_{3} & 0 & 0 &0\\\\ \\cdots \\\\ 0 & 0 & 0 & 0 & 0 &q_{6}  \\end{bmatrix}\n",
        "In the vector-matrix form, this is equivalent to\n",
        "$$\n",
        "\\begin{array}{ll}\n",
        "\\text{minimize} & f(x) = x^{T}Qx + c^{\\top}x \\\\\n",
        "\\text{subject to}\\\\\n",
        "&\\begin{bmatrix} 1 & 1 & 1 & 0 & 0 & 0 \\\\ 0 & 0 & 0 & 1 & 1 &1  \\end{bmatrix} \\begin{bmatrix} x_{1} \\\\ \\vdots \\\\ x_{6} \\end{bmatrix} \\leq \\begin{bmatrix} 500000 \\\\ 400000 \\end{bmatrix} \\\\\n",
        "&\\begin{bmatrix} 1 & 1 & 1 & 1 & 1 &1 \\end{bmatrix} \\begin{bmatrix} x_{1} \\\\ \\vdots \\\\ x_{6} \\end{bmatrix}  = 750000 \\\\\n",
        "&0 \\leq x_{i} \\leq 200000, \\quad \\forall i = 1,\\cdots,6.\n",
        "\\end{array}\n",
        "$$"
      ],
      "metadata": {
        "id": "_oNWBCqzi1nh"
      }
    },
    {
      "cell_type": "code",
      "source": [
        "# re-writing the above QP problem in to the form that the solver can take as input\n",
        "q1 = np.array([7.,5.,4.,8.,2.,4.])\n",
        "P = np.diag(q1) # creating a diagonal matrix \n",
        "q = np.array([10., 17., 13., 9., 15., 18.])\n",
        "G = np.array([[1., 1., 1., 0., 0., 0.], [0., 0., 0., 1., 1., 1.]])\n",
        "h = np.array([500000., 400000.])\n",
        "A = np.array([[1., 1., 1., 1., 1., 1.]])\n",
        "b = np.array([750000.])\n",
        "lb = np.array([0.,0.,0.,0.,0.,0])\n",
        "ub = np.array([200000.,200000., 200000.,200000.,200000.,200000. ])\n",
        "\n",
        "x = qp.solve_qp(P, q, G, h, A, b, lb, ub)\n",
        "print(f\"The optimal items that should be produce by the six Sites is:\\n {x}\")"
      ],
      "metadata": {
        "id": "wSb69-zX25cl",
        "colab": {
          "base_uri": "https://localhost:8080/"
        },
        "outputId": "e7157612-0583-415f-c5d5-1ef5e93ab3c9"
      },
      "execution_count": null,
      "outputs": [
        {
          "output_type": "stream",
          "name": "stdout",
          "text": [
            "The optimal items that should be produce by the six Sites is:\n",
            " [ 84337.86746988 118071.61445783 147590.51807229  66667.41666667\n",
            " 200000.         133332.58333333]\n"
          ]
        }
      ]
    },
    {
      "cell_type": "code",
      "source": [
        "sum(x) # x = [ 84337.86746988 118071.61445783 147590.51807229  66667.41666667 200000. 133332.58333333]"
      ],
      "metadata": {
        "colab": {
          "base_uri": "https://localhost:8080/"
        },
        "id": "v9iQXavQOov6",
        "outputId": "74960997-903c-4a1c-a191-5d58e33ca3d4"
      },
      "execution_count": null,
      "outputs": [
        {
          "output_type": "execute_result",
          "data": {
            "text/plain": [
              "750000.0000000001"
            ]
          },
          "metadata": {},
          "execution_count": 9
        }
      ]
    }
  ]
}